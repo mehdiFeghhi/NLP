{
 "cells": [
  {
   "cell_type": "markdown",
   "source": [
    "    In this place I write hamming distance algorithm that give two string, and it's output is distance."
   ],
   "metadata": {
    "collapsed": false
   }
  },
  {
   "cell_type": "code",
   "execution_count": 6,
   "metadata": {
    "collapsed": true
   },
   "outputs": [],
   "source": [
    "def hamming_distance_algorithm(string_one:str, string_two:str):\n",
    "\n",
    "    # If the size of two string aren't same it raise erre .\n",
    "    if len(string_one) != len(string_one):\n",
    "        raise \"string must have same size\"\n",
    "\n",
    "    # inistion hamming dis at first zero.\n",
    "    number_hamming_distance = 0\n",
    "\n",
    "    # move on string one if in each place not same increase numbe of hamming dis\n",
    "\n",
    "    for index in range(len(string_one)):\n",
    "\n",
    "        if string_two[index] != string_one[index]:\n",
    "            number_hamming_distance += 1\n",
    "\n",
    "    return number_hamming_distance\n",
    "\n"
   ]
  },
  {
   "cell_type": "code",
   "execution_count": 7,
   "outputs": [
    {
     "data": {
      "text/plain": "3"
     },
     "execution_count": 7,
     "metadata": {},
     "output_type": "execute_result"
    }
   ],
   "source": [
    "hamming_distance_algorithm(\"GGGCCGTTGGT\",\"GGACCGTTGAG\")\n"
   ],
   "metadata": {
    "collapsed": false
   }
  },
  {
   "cell_type": "markdown",
   "source": [
    "this function return list index of item in string that if we start from this poistion after len(pattern tex) by As much as possible of numer of mistake we have hamming distance."
   ],
   "metadata": {
    "collapsed": false
   }
  },
  {
   "cell_type": "code",
   "execution_count": 8,
   "outputs": [],
   "source": [
    "\n",
    "def find_position_of_sub_string(pattern, text, number_of_mistake = 0):\n",
    "\n",
    "    size_of_pattern = len(pattern)\n",
    "    size_text = len(text)\n",
    "    list_of_index = []\n",
    "\n",
    "    for index in range(size_text):\n",
    "\n",
    "        # if we position of index add by size of text and was bigger than this size of main text we ignore it .\n",
    "        if size_of_pattern+index <= size_text:\n",
    "\n",
    "            sample_sub = text[index:size_of_pattern+index]\n",
    "            if hamming_distance_algorithm(pattern,sample_sub) <= number_of_mistake:\n",
    "                list_of_index.append(index)\n",
    "\n",
    "    return list_of_index\n"
   ],
   "metadata": {
    "collapsed": false
   }
  },
  {
   "cell_type": "code",
   "execution_count": 9,
   "outputs": [
    {
     "name": "stdout",
     "output_type": "stream",
     "text": [
      "[6, 7, 26, 27]\n"
     ]
    }
   ],
   "source": [
    "pattern_1 = \"ATTCTGGA\"\n",
    "text_1 = \"CGCCCGAATCCAGAACGCATTCCCATATTTCGGGACCACTGGCCTCCACGGTACGGACGTCAATCAAAT\"\n",
    "number_of_mistake_1 = 3\n",
    "print(find_position_of_sub_string(pattern_1,text_1,number_of_mistake_1))"
   ],
   "metadata": {
    "collapsed": false
   }
  },
  {
   "cell_type": "markdown",
   "source": [
    "Read from the txt prob1 c2"
   ],
   "metadata": {
    "collapsed": false
   }
  },
  {
   "cell_type": "code",
   "execution_count": 10,
   "outputs": [],
   "source": [
    "with open(\"prob1_c2.txt\", encoding = 'utf-8') as f:\n",
    "    data = f.read()\n",
    "\n",
    "list_of_input = data.split('\\n')\n"
   ],
   "metadata": {
    "collapsed": false
   }
  },
  {
   "cell_type": "markdown",
   "source": [
    "Split pattern and text and number of mistake from text file.\n",
    "At End show list start indexes like above example."
   ],
   "metadata": {
    "collapsed": false
   }
  },
  {
   "cell_type": "code",
   "execution_count": 11,
   "outputs": [
    {
     "name": "stdout",
     "output_type": "stream",
     "text": [
      "Sample Output: \n",
      "[5, 8, 11, 26, 31, 60, 76, 79, 82, 124, 144, 152, 167, 176, 179, 191, 193, 205, 219, 247, 250, 255, 258, 265, 272, 275, 296, 298, 299, 301, 304, 318, 327, 345, 354, 357, 380, 382, 383, 385, 392, 400, 417, 424, 454, 457, 484, 493, 496, 509, 516, 525, 552, 577, 592, 595, 607, 614, 625, 628, 643, 683, 694, 705, 735, 746, 752, 753, 772, 775, 809, 814, 836, 856, 858, 873, 881, 885, 894, 911, 922, 934, 941, 957, 966, 969, 983, 1004, 1026, 1033, 1063, 1066, 1070, 1077, 1087, 1095, 1116, 1119, 1139, 1140, 1153, 1189, 1194, 1207, 1224, 1230, 1250, 1252, 1282, 1293, 1305, 1306, 1321, 1338, 1340, 1350, 1365, 1388, 1392, 1409, 1416, 1419, 1440, 1453, 1482, 1485, 1499, 1506, 1509, 1560, 1561, 1575, 1600, 1634, 1644, 1647, 1698, 1730, 1740, 1743, 1754, 1757, 1779, 1787, 1804, 1811, 1814, 1824, 1834, 1894, 1913, 1917, 1925, 1941, 1952, 1975, 1997, 2003, 2043, 2046, 2058, 2061, 2068, 2071, 2095, 2098, 2116, 2125, 2128, 2132, 2134, 2143, 2160, 2184, 2205, 2208, 2235, 2251, 2264, 2267, 2278, 2294, 2322, 2337, 2340, 2356, 2363, 2374, 2394, 2399, 2410, 2418, 2434, 2437, 2441, 2459, 2461, 2481, 2521, 2527, 2544, 2554, 2561, 2577, 2580, 2589, 2596, 2603, 2617, 2626, 2633, 2649, 2663, 2666, 2686, 2699, 2708, 2715, 2723, 2792, 2795, 2799, 2802, 2805, 2847, 2859, 2876, 2886, 2900, 2920, 2923, 2931, 2941, 2948, 2951, 2956, 2975, 3000, 3014, 3021, 3048, 3051, 3102, 3105, 3145, 3183, 3190, 3206, 3211, 3217, 3236, 3243, 3270, 3288, 3305, 3320, 3323, 3345, 3348, 3351, 3369, 3397, 3403, 3418, 3444, 3472, 3474, 3481, 3482, 3484, 3493, 3499, 3507, 3523, 3531, 3542, 3543, 3545, 3559, 3586, 3594, 3597, 3605, 3608, 3611, 3623, 3624, 3654, 3660, 3673, 3697, 3700, 3709, 3717, 3741, 3746, 3761, 3789, 3801, 3814, 3817, 3820, 3830, 3835, 3854, 3874, 3877, 3886, 3901, 3927, 3930, 3937, 3970, 4000, 4014, 4039, 4044, 4047, 4078, 4091, 4096, 4097, 4106, 4119, 4124, 4127, 4149, 4180, 4190, 4203, 4222, 4259, 4285, 4314, 4362, 4368, 4381, 4396, 4403, 4415, 4416, 4425, 4432, 4456, 4461, 4470, 4476, 4482, 4521, 4523, 4532, 4571, 4577, 4580, 4581, 4603, 4608, 4614, 4645, 4654, 4688, 4694, 4702, 4712, 4731, 4757, 4774, 4778, 4791, 4799, 4812, 4843, 4846, 4858, 4877, 4880, 4882, 4903, 4914, 4924, 4930, 4942, 4943, 4960, 4966, 4973, 5002, 5015, 5034, 5077, 5090, 5093, 5137, 5140, 5162, 5177, 5180, 5217, 5233, 5240, 5250, 5256, 5280, 5282, 5288, 5291, 5298, 5314, 5321, 5324, 5327, 5332, 5335, 5344, 5347, 5350, 5356, 5359, 5365, 5378, 5415, 5433, 5436, 5439, 5445, 5457, 5465, 5489, 5496, 5507, 5542, 5558, 5561, 5564, 5579, 5607, 5633, 5636, 5639, 5658, 5669, 5672, 5686, 5689, 5718, 5731, 5759, 5762, 5787, 5810, 5813, 5830, 5841, 5852, 5864, 5884, 5887, 5928, 5931, 5977, 6012, 6022, 6038, 6066, 6077, 6084, 6087, 6091, 6098, 6108, 6115, 6123, 6167, 6178, 6181, 6187, 6192, 6208, 6226, 6267, 6278, 6287, 6299, 6312, 6323, 6326, 6332, 6347, 6349, 6352, 6359, 6375, 6387, 6396, 6399, 6422, 6425, 6446, 6452, 6456, 6481, 6506, 6522, 6536, 6542, 6554, 6561, 6572, 6575, 6625, 6628, 6639, 6640, 6647, 6655, 6670, 6680, 6684, 6701, 6730, 6744, 6756, 6772, 6778, 6791, 6821, 6834, 6845, 6860, 6866, 6883, 6886, 6888, 6910, 6916, 6917, 6932, 6942, 6948, 6957, 6959, 6977, 6999, 7020, 7023, 7032, 7048, 7051, 7064, 7067, 7074, 7122, 7131, 7140, 7143, 7149, 7158, 7165, 7173, 7185, 7188, 7205, 7208, 7215, 7218, 7227, 7239, 7240, 7252, 7255, 7281, 7298, 7305, 7312, 7325, 7328, 7353, 7375, 7382, 7385, 7409, 7414, 7432, 7435, 7459, 7475, 7478, 7495, 7496, 7509, 7512, 7547, 7557, 7576, 7605, 7610, 7613, 7623, 7646, 7655, 7663, 7666, 7681, 7682, 7706, 7713, 7725, 7728, 7738, 7748, 7766, 7785, 7788, 7824, 7827, 7839, 7846, 7855, 7857, 7877, 7890, 7902, 7919, 7930, 7952, 7954, 7961, 7971, 7999, 8004, 8016, 8024, 8031, 8034, 8039, 8074, 8077, 8089, 8109, 8115, 8136, 8139, 8141, 8147, 8203, 8216, 8217, 8225, 8233, 8246, 8261, 8276, 8283, 8292, 8295, 8311, 8349, 8357, 8366, 8380, 8400, 8415, 8418, 8425, 8435, 8438, 8446, 8458, 8464, 8465, 8477, 8482, 8485, 8496, 8502, 8523, 8530, 8535, 8538, 8562, 8574, 8588, 8589, 8613, 8614, 8621, 8624, 8636, 8645, 8653, 8678, 8684, 8691, 8761, 8782, 8789, 8794, 8808, 8811, 8845, 8852, 8859, 8862, 8866, 8869, 8891, 8909, 8910, 8917, 8943, 8955, 8958, 8968, 8974, 8981, 8988, 8991, 8994, 9006, 9015, 9024, 9031, 9041, 9047, 9050, 9053, 9073, 9084, 9087, 9090, 9100, 9147, 9148, 9170, 9173, 9187, 9193, 9223, 9231, 9239, 9251, 9265, 9266, 9282, 9290, 9311, 9314, 9326, 9345, 9360, 9377, 9392, 9419, 9455, 9461, 9467, 9483, 9492, 9499, 9510, 9542, 9555, 9564, 9581, 9622, 9654, 9667, 9672, 9701, 9710, 9714, 9722, 9752, 9759, 9766, 9773, 9776, 9786, 9789, 9796, 9799, 9802, 9816, 9836, 9857, 9876, 9895, 9925, 9956, 9980, 9981, 10023, 10028, 10035, 10048, 10051, 10083, 10106, 10109, 10118, 10138, 10141, 10149, 10170, 10178, 10202, 10210, 10213, 10225, 10253, 10276, 10312, 10316, 10336, 10348, 10354, 10357, 10360, 10370, 10373, 10422, 10437, 10440, 10459, 10462, 10474, 10481, 10492, 10498, 10503, 10513, 10535, 10537, 10540, 10571, 10584, 10591, 10618, 10632, 10645, 10648, 10651, 10672, 10678, 10687, 10699, 10706, 10722, 10725, 10732, 10766, 10773, 10792, 10795, 10810, 10813, 10824, 10830, 10837, 10842, 10848, 10851, 10860, 10863, 10866, 10884, 10895, 10908, 10921, 10923, 10958, 10965, 10971, 10995, 10996, 10998, 11012, 11024, 11030, 11035, 11047, 11061, 11070, 11077, 11087, 11096, 11130, 11138, 11147, 11150, 11153, 11173, 11178, 11181, 11188, 11195, 11215, 11219, 11240, 11243, 11246, 11283, 11286, 11296, 11299, 11303, 11376, 11389, 11404, 11407, 11422, 11425, 11482, 11510, 11533, 11536, 11553, 11567, 11568, 11583, 11604, 11614, 11637, 11644, 11675, 11678, 11688, 11726, 11736, 11747, 11781, 11784, 11787, 11793, 11800, 11801, 11803, 11810, 11821, 11841, 11844, 11877, 11888, 11904, 11907, 11946, 11952, 11975, 11983, 12010, 12016, 12019, 12022, 12029, 12037, 12038, 12047, 12054, 12063, 12085, 12087, 12103, 12110, 12116, 12144, 12147, 12181, 12192, 12194, 12208, 12226, 12238, 12254, 12261, 12262, 12268, 12276, 12279, 12287, 12296, 12359, 12396, 12413, 12425, 12451, 12462, 12476, 12479, 12485, 12488, 12500, 12503, 12522, 12526, 12557, 12568, 12603, 12620, 12627, 12638, 12646, 12648, 12660, 12666, 12693, 12710, 12713, 12721, 12724, 12742, 12764, 12771, 12810, 12827, 12836, 12838, 12856, 12870, 12875, 12878, 12883, 12898, 12901, 12918, 12921, 12926, 12935, 12950, 12953, 12962, 12981, 13005, 13008, 13011, 13024, 13039, 13082, 13097, 13104, 13107, 13110, 13140, 13150, 13157, 13162, 13188, 13221, 13223, 13228, 13244, 13247, 13250, 13262, 13297, 13308, 13326, 13329, 13366, 13404, 13413, 13416, 13419, 13433, 13441, 13444, 13461, 13467, 13476, 13483, 13497, 13507, 13525, 13532, 13538, 13541, 13565, 13577, 13587, 13590, 13597, 13634, 13641, 13653, 13665, 13668, 13671, 13680, 13697, 13726, 13736, 13747, 13763, 13775, 13782, 13786, 13794, 13833, 13840, 13843, 13846, 13860, 13867, 13870, 13886, 13889, 13895, 13904, 13927, 13940, 13962, 13967, 13970, 14001, 14018, 14026, 14029, 14039, 14053, 14055, 14082, 14111, 14120, 14123, 14144, 14147, 14150, 14153, 14156, 14159, 14162, 14191, 14194, 14218, 14221, 14224, 14240, 14256, 14269, 14272, 14295, 14298, 14301, 14323, 14333, 14336, 14343, 14379, 14393, 14407, 14410, 14482, 14492, 14511, 14522, 14525, 14537, 14567, 14570, 14583, 14585, 14595, 14601, 14611, 14639, 14667, 14693, 14696, 14698, 14701, 14720, 14753, 14759, 14840, 14850, 14861, 14862, 14869, 14872, 14888, 14932, 14943, 14948, 14959, 14960, 14972, 14977, 14980, 14990, 15006, 15017, 15018, 15033, 15034, 15050, 15070, 15079, 15087, 15103, 15106, 15147, 15164, 15184, 15190, 15211, 15232, 15241, 15301, 15304, 15305, 15340, 15368, 15380, 15383, 15386, 15397, 15404, 15407, 15410, 15417, 15420, 15455, 15472, 15488, 15490, 15497, 15502, 15509, 15512, 15533, 15536, 15539, 15546, 15569, 15572, 15583, 15586, 15602, 15605, 15641, 15649, 15652, 15661, 15668, 15676, 15682, 15695, 15726, 15740, 15768, 15784, 15791, 15794, 15817, 15833, 15835, 15840, 15843, 15871, 15887, 15897, 15900, 15911, 15935, 15947, 15960, 15961, 15969, 15980, 15983, 15995, 15997, 16011, 16024, 16037, 16047, 16071, 16081, 16087, 16105, 16107, 16110, 16124, 16145, 16151, 16196, 16212, 16225, 16245, 16246, 16265, 16279, 16282, 16286, 16308, 16340, 16350, 16365, 16374, 16401, 16404, 16413, 16416, 16428, 16431]\n"
     ]
    }
   ],
   "source": [
    "pattern = list_of_input[0]\n",
    "txt = list_of_input[1]\n",
    "number_of_mistake = int(list_of_input[2])\n",
    "list_out_put = find_position_of_sub_string(pattern,txt,number_of_mistake)\n",
    "print(\"Sample Output: \")\n",
    "print(list_out_put)"
   ],
   "metadata": {
    "collapsed": false
   }
  },
  {
   "cell_type": "markdown",
   "source": [
    "We get text and length of pattern and As much as possible mismatches we can have ."
   ],
   "metadata": {
    "collapsed": false
   }
  },
  {
   "cell_type": "code",
   "execution_count": 12,
   "outputs": [],
   "source": [
    "import itertools\n",
    "\n",
    "# this function give all possible sub string we can have with special chars.\n",
    "def make_all_possible_string_by(set_char,length):\n",
    "     l = ''.join(set_char)\n",
    "     yield from itertools.product(*([l] * length))\n",
    "\n",
    "# test all sub string we can have and see how much can we find in the text with this mismatches and at the end return list of\n",
    "# the biggest sub string frequency can occur in text .\n",
    "def find_frequent_sub(text, length, mismatches=0):\n",
    "\n",
    "    set_chr_in_text = sorted(set(text))\n",
    "    dic_of_sub = {}\n",
    "    for item in make_all_possible_string_by(set_chr_in_text,length):\n",
    "        dic_of_sub[''.join(item)] = len(find_position_of_sub_string(''.join(item),text,mismatches))\n",
    "    bigger_item_in_dic = [key for key, value in dic_of_sub.items() if value == max(dic_of_sub.values())]\n",
    "    return bigger_item_in_dic\n",
    "\n"
   ],
   "metadata": {
    "collapsed": false
   }
  },
  {
   "cell_type": "code",
   "execution_count": 14,
   "outputs": [
    {
     "name": "stdout",
     "output_type": "stream",
     "text": [
      "['ATGC', 'ATGT', 'GATG']\n"
     ]
    }
   ],
   "source": [
    "print(find_frequent_sub(\"ACGTTGCATGTCGCATGATGCATGAGAGCT\",4,1))"
   ],
   "metadata": {
    "collapsed": false
   }
  },
  {
   "cell_type": "code",
   "execution_count": 15,
   "outputs": [],
   "source": [
    "with open(\"prob1_c3.txt\", encoding = 'utf-8') as f:\n",
    "    data = f.read()\n",
    "\n",
    "list_of_input = data.split('\\n')\n"
   ],
   "metadata": {
    "collapsed": false
   }
  },
  {
   "cell_type": "code",
   "execution_count": 16,
   "outputs": [
    {
     "name": "stdout",
     "output_type": "stream",
     "text": [
      "['ATACGACGACTTTCTCGACGACGAATACTTTTTTCTTATACGACTCGACTTCTTTTTTTATACTTCTTCGACGATTCTTCGAATACGACGACGACGACGACTTTTCTTCTCGACTATACTTCTTATACTTCTTATACGAATAATAATAATAATAATACGACTTTTCTCTTCTTTTTTCTTCTTCTCTTTTCTTCGAATACTCTTTATACTTTTTTCTT', '5 3', '']\n"
     ]
    }
   ],
   "source": [
    "print(list_of_input)\n"
   ],
   "metadata": {
    "collapsed": false
   }
  },
  {
   "cell_type": "code",
   "execution_count": 17,
   "outputs": [
    {
     "name": "stdout",
     "output_type": "stream",
     "text": [
      "['ATTTA', 'ATTTC']\n"
     ]
    }
   ],
   "source": [
    "numbers = list_of_input[1].split()\n",
    "print(find_frequent_sub(list_of_input[0],int(numbers[0]),int(numbers[1])))\n"
   ],
   "metadata": {
    "collapsed": false
   }
  },
  {
   "cell_type": "code",
   "execution_count": null,
   "outputs": [],
   "source": [],
   "metadata": {
    "collapsed": false
   }
  }
 ],
 "metadata": {
  "kernelspec": {
   "display_name": "Python 3",
   "language": "python",
   "name": "python3"
  },
  "language_info": {
   "codemirror_mode": {
    "name": "ipython",
    "version": 2
   },
   "file_extension": ".py",
   "mimetype": "text/x-python",
   "name": "python",
   "nbconvert_exporter": "python",
   "pygments_lexer": "ipython2",
   "version": "2.7.6"
  }
 },
 "nbformat": 4,
 "nbformat_minor": 0
}
