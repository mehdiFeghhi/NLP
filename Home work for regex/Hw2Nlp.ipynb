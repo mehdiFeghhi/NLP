{
  "nbformat": 4,
  "nbformat_minor": 0,
  "metadata": {
    "colab": {
      "provenance": [],
      "collapsed_sections": []
    },
    "kernelspec": {
      "name": "python3",
      "display_name": "Python 3"
    },
    "language_info": {
      "name": "python"
    }
  },
  "cells": [
    {
      "cell_type": "markdown",
      "source": [
        "# first we import liberary for working with regex in python . "
      ],
      "metadata": {
        "id": "3fpCALFAEOwG"
      }
    },
    {
      "cell_type": "code",
      "execution_count": 1,
      "metadata": {
        "id": "H-ljFtbBP90-"
      },
      "outputs": [],
      "source": [
        "import re"
      ]
    },
    {
      "cell_type": "markdown",
      "source": [
        "for first question it want a function to see that our email address is valid or not .\n",
        "\n",
        "valid email can have numerical and all english alphabet (lowercase and uppercase)and dot and _ for username .\n",
        "I showed that in our main regex with this part : \n",
        "\n",
        "**[A-Za-z0-9._]+**\n",
        "\n",
        "for domain part we can have all english alphabet (lowercase and uppercase)\n",
        "and numerical . \n",
        "I showed that in our main regex with this part :\n",
        "\n",
        "**[A-Za-z0-9]+**\n",
        "\n",
        "for last part we can just have english alphabet (lowercase and uppercase) that must be show in 3 character.\n",
        "I showed that in our main regex with this part :\n",
        "\n",
        "**[A-Za-z]{3,3}**\n",
        "\n",
        "\n",
        "At end I connected them with this rule : \n",
        "\n",
        "username_part + @ + domain_part + . + tld\n",
        "\n",
        "and in regex form you can see with this shape : \n",
        "\n",
        "**[A-Za-z0-9._]+@[A-Za-z0-9]+\\.[A-Za-z]{3,3}**"
      ],
      "metadata": {
        "id": "-UCDG3ffDvs3"
      }
    },
    {
      "cell_type": "markdown",
      "source": [
        "I needed to see all my text can match with this rule thus I use **re.fullmatch**\n"
      ],
      "metadata": {
        "id": "NKEWiY9-Eqf-"
      }
    },
    {
      "cell_type": "code",
      "source": [
        "def validate_email(email):\n",
        "\n",
        "    regex = re.compile(r'\\b[A-Za-z0-9._]+@[A-Za-z0-9]+\\.[A-Za-z]{3,3}\\b')\n",
        "    if re.fullmatch(regex, email):\n",
        "      return True\n",
        "    else:\n",
        "      return False "
      ],
      "metadata": {
        "id": "prT8GpCiQN5W"
      },
      "execution_count": 2,
      "outputs": []
    },
    {
      "cell_type": "markdown",
      "source": [
        "Here is some test of this function\n",
        "\n",
        "\n"
      ],
      "metadata": {
        "id": "TUTNq7msLYHQ"
      }
    },
    {
      "cell_type": "code",
      "source": [
        "validate_email(\"mehdi_hossainy@y3poin.coM\")\n"
      ],
      "metadata": {
        "colab": {
          "base_uri": "https://localhost:8080/"
        },
        "id": "pHVnSEawIiFS",
        "outputId": "8e7c6173-c56a-4162-db0f-2b1f119d4942"
      },
      "execution_count": 3,
      "outputs": [
        {
          "output_type": "execute_result",
          "data": {
            "text/plain": [
              "True"
            ]
          },
          "metadata": {},
          "execution_count": 3
        }
      ]
    },
    {
      "cell_type": "code",
      "source": [
        "validate_email(\"ali.hossainy@yahoo.Cor\")\n"
      ],
      "metadata": {
        "colab": {
          "base_uri": "https://localhost:8080/"
        },
        "id": "vJffCLqHaB-W",
        "outputId": "9a5042e9-01f1-4854-b8c6-19b11a2f81b8"
      },
      "execution_count": 4,
      "outputs": [
        {
          "output_type": "execute_result",
          "data": {
            "text/plain": [
              "True"
            ]
          },
          "metadata": {},
          "execution_count": 4
        }
      ]
    },
    {
      "cell_type": "code",
      "source": [
        "validate_email(\"Feghhi1378Me@Gem2ail.com\")\n"
      ],
      "metadata": {
        "colab": {
          "base_uri": "https://localhost:8080/"
        },
        "id": "1_a0W98HIqin",
        "outputId": "577d3f2f-2eef-490a-d866-0144a1709944"
      },
      "execution_count": 5,
      "outputs": [
        {
          "output_type": "execute_result",
          "data": {
            "text/plain": [
              "True"
            ]
          },
          "metadata": {},
          "execution_count": 5
        }
      ]
    },
    {
      "cell_type": "code",
      "source": [
        "validate_email(\"mehdi_hossainy@y3poin.co8\")\n"
      ],
      "metadata": {
        "colab": {
          "base_uri": "https://localhost:8080/"
        },
        "id": "PUGXHiGmJEE5",
        "outputId": "51ff71a0-6f58-449f-ce0f-630547f44a11"
      },
      "execution_count": 6,
      "outputs": [
        {
          "output_type": "execute_result",
          "data": {
            "text/plain": [
              "False"
            ]
          },
          "metadata": {},
          "execution_count": 6
        }
      ]
    },
    {
      "cell_type": "code",
      "source": [
        "validate_email(\"mehdi_hossainy@y3poin.ir\")\n"
      ],
      "metadata": {
        "colab": {
          "base_uri": "https://localhost:8080/"
        },
        "id": "KPZteLTzJLeF",
        "outputId": "3d9df956-22af-4adf-f63f-182edb484228"
      },
      "execution_count": 7,
      "outputs": [
        {
          "output_type": "execute_result",
          "data": {
            "text/plain": [
              "False"
            ]
          },
          "metadata": {},
          "execution_count": 7
        }
      ]
    },
    {
      "cell_type": "code",
      "source": [
        "validate_email(\"mehdi*hossainy@yahoo.com\")"
      ],
      "metadata": {
        "colab": {
          "base_uri": "https://localhost:8080/"
        },
        "id": "gI-jYOQ0JRFm",
        "outputId": "01dfada2-c619-4a49-88df-c5db8b911825"
      },
      "execution_count": 8,
      "outputs": [
        {
          "output_type": "execute_result",
          "data": {
            "text/plain": [
              "False"
            ]
          },
          "metadata": {},
          "execution_count": 8
        }
      ]
    },
    {
      "cell_type": "markdown",
      "source": [
        "In question two It want a function whitch validate phonenumber.\n",
        "\n",
        "for validation of phonenumber it must start with 09 or 00989 or +989\n",
        "I show this with :\n",
        "\n",
        "**(09|[+]989|00989)**\n",
        "\n",
        "and after this prefix it must come 9 nuerical digit .\n",
        "I show this with :\n",
        "\n",
        "**[0-9]{9,9}**\n",
        "\n",
        "At end of this process I connect them :\n",
        "\n",
        "**(09|[+]989|00989)[0-9]{9,9}**\n"
      ],
      "metadata": {
        "id": "Ug13WKLzKC8x"
      }
    },
    {
      "cell_type": "markdown",
      "source": [
        "\n",
        "\n",
        "I needed to see all my text can match with this rule thus I use **re.fullmatch**\n",
        "\n",
        "\n"
      ],
      "metadata": {
        "id": "2YU37ixzLUlt"
      }
    },
    {
      "cell_type": "code",
      "source": [
        "def validate_phone_number(phone_number):\n",
        "      \n",
        "      regex = re.compile(r'(09|[+]989|00989)[0-9]{9,9}')\n",
        "      if re.fullmatch(regex, phone_number):\n",
        "          return True\n",
        "      else:\n",
        "          return False "
      ],
      "metadata": {
        "id": "fazMbs5jdz9W"
      },
      "execution_count": 9,
      "outputs": []
    },
    {
      "cell_type": "markdown",
      "source": [
        "\n",
        "\n",
        "Here is some test of this function\n",
        "\n",
        "\n"
      ],
      "metadata": {
        "id": "8U8C0TmwLhk9"
      }
    },
    {
      "cell_type": "code",
      "source": [
        "validate_phone_number(\"+989378347990\")"
      ],
      "metadata": {
        "colab": {
          "base_uri": "https://localhost:8080/"
        },
        "id": "nQOvJEiRl121",
        "outputId": "ca07616c-065d-4be4-a26a-658d8ddde029"
      },
      "execution_count": 10,
      "outputs": [
        {
          "output_type": "execute_result",
          "data": {
            "text/plain": [
              "True"
            ]
          },
          "metadata": {},
          "execution_count": 10
        }
      ]
    },
    {
      "cell_type": "code",
      "source": [
        "validate_phone_number(\"09378347990\")"
      ],
      "metadata": {
        "colab": {
          "base_uri": "https://localhost:8080/"
        },
        "id": "zPEuixwiJg_7",
        "outputId": "ad89b6f0-e95a-45ca-8cfe-baf535b822fc"
      },
      "execution_count": 11,
      "outputs": [
        {
          "output_type": "execute_result",
          "data": {
            "text/plain": [
              "True"
            ]
          },
          "metadata": {},
          "execution_count": 11
        }
      ]
    },
    {
      "cell_type": "code",
      "source": [
        "validate_phone_number(\"00989378347990\")"
      ],
      "metadata": {
        "colab": {
          "base_uri": "https://localhost:8080/"
        },
        "id": "PxEl4NcWJnUq",
        "outputId": "ce2364b5-7825-41de-c829-5f8c2b35889b"
      },
      "execution_count": 12,
      "outputs": [
        {
          "output_type": "execute_result",
          "data": {
            "text/plain": [
              "True"
            ]
          },
          "metadata": {},
          "execution_count": 12
        }
      ]
    }
  ]
}